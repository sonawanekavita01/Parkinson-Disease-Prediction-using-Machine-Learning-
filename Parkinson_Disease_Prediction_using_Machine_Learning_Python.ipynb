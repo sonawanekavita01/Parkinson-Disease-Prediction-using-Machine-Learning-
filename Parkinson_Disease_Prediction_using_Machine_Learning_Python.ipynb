{
  "nbformat": 4,
  "nbformat_minor": 0,
  "metadata": {
    "colab": {
      "provenance": []
    },
    "kernelspec": {
      "name": "python3",
      "display_name": "Python 3"
    },
    "language_info": {
      "name": "python"
    }
  },
  "cells": [
    {
      "cell_type": "markdown",
      "source": [
        "# Parkinson Disease Prediction using Machine Learning - Python"
      ],
      "metadata": {
        "id": "doaeKhsnS3b4"
      }
    },
    {
      "cell_type": "markdown",
      "source": [
        "Parkinson's disease is a progressive neurological disorder that affects movement. Stiffening, tremors and slowing down of movements may be signs of Parkinson's disease. While there is no certain diagnostic test, but we can use machine learning in predicting whether a person has Parkinson's disease based on specific biomarkers. In this article, we will use machine learning models to predict Parkinson's disease."
      ],
      "metadata": {
        "id": "MqMVTLAdS1ge"
      }
    },
    {
      "cell_type": "markdown",
      "source": [
        "# 1. Importing Libraries and Dataset"
      ],
      "metadata": {
        "id": "CbhEukshS-fS"
      }
    },
    {
      "cell_type": "markdown",
      "source": [
        "We will be usingPandas, Numpy, Matplotlib, Seaborn, Sckit-learn, XGBoost and Imblearn."
      ],
      "metadata": {
        "id": "Ko6OU6KWTL_8"
      }
    },
    {
      "cell_type": "code",
      "execution_count": 5,
      "metadata": {
        "id": "_koLjl0SSyKw"
      },
      "outputs": [],
      "source": [
        "import numpy as np\n",
        "import pandas as pd\n",
        "import matplotlib.pyplot as plt\n",
        "import seaborn as sb\n",
        "\n",
        "from imblearn.over_sampling import RandomOverSampler\n",
        "from sklearn.model_selection import train_test_split\n",
        "from sklearn.preprocessing import LabelEncoder, MinMaxScaler\n",
        "from sklearn.feature_selection import SelectKBest, chi2\n",
        "from tqdm.notebook import tqdm\n",
        "from sklearn import metrics\n",
        "from sklearn.svm import SVC\n",
        "from xgboost import XGBClassifier\n",
        "from sklearn.linear_model import LogisticRegression\n",
        "\n",
        "import warnings\n",
        "warnings.filterwarnings('ignore')"
      ]
    },
    {
      "cell_type": "markdown",
      "source": [
        "#2. Importing Dataset"
      ],
      "metadata": {
        "id": "fjlSQ08jTbI_"
      }
    },
    {
      "cell_type": "code",
      "source": [
        "df = pd.read_csv('/content/parkinson_disease.csv')\n",
        "pd.set_option('display.max_columns', 10)\n",
        "df.sample(5)"
      ],
      "metadata": {
        "colab": {
          "base_uri": "https://localhost:8080/",
          "height": 235
        },
        "id": "ha1fQYEYTdbd",
        "outputId": "e348bdcf-5d7d-4998-9869-1315da9f8635"
      },
      "execution_count": 6,
      "outputs": [
        {
          "output_type": "display_data",
          "data": {
            "text/plain": [
              "      id  gender      PPE      DFA     RPDE  ...  tqwt_kurtosisValue_dec_33  \\\n",
              "383  127       1  0.81547  0.64809  0.60227  ...                     2.4950   \n",
              "293   97       0  0.39898  0.64777  0.57496  ...                     2.2564   \n",
              "697  232       0  0.84775  0.65800  0.38510  ...                    18.1582   \n",
              "539  179       1  0.41722  0.69852  0.78771  ...                     4.8850   \n",
              "96    32       1  0.44989  0.79230  0.76099  ...                     3.4521   \n",
              "\n",
              "     tqwt_kurtosisValue_dec_34  tqwt_kurtosisValue_dec_35  \\\n",
              "383                    13.3860                    13.2860   \n",
              "293                     6.5052                     8.8987   \n",
              "697                     8.6742                     5.0340   \n",
              "539                     4.0145                     5.8718   \n",
              "96                      3.6795                     3.6813   \n",
              "\n",
              "     tqwt_kurtosisValue_dec_36  class  \n",
              "383                    53.4437      1  \n",
              "293                    27.2229      1  \n",
              "697                     6.7276      0  \n",
              "539                     5.9461      1  \n",
              "96                     28.3090      1  \n",
              "\n",
              "[5 rows x 755 columns]"
            ],
            "text/html": [
              "\n",
              "  <div id=\"df-d048718f-ed37-42f2-b1bb-f8111aad00ae\" class=\"colab-df-container\">\n",
              "    <div>\n",
              "<style scoped>\n",
              "    .dataframe tbody tr th:only-of-type {\n",
              "        vertical-align: middle;\n",
              "    }\n",
              "\n",
              "    .dataframe tbody tr th {\n",
              "        vertical-align: top;\n",
              "    }\n",
              "\n",
              "    .dataframe thead th {\n",
              "        text-align: right;\n",
              "    }\n",
              "</style>\n",
              "<table border=\"1\" class=\"dataframe\">\n",
              "  <thead>\n",
              "    <tr style=\"text-align: right;\">\n",
              "      <th></th>\n",
              "      <th>id</th>\n",
              "      <th>gender</th>\n",
              "      <th>PPE</th>\n",
              "      <th>DFA</th>\n",
              "      <th>RPDE</th>\n",
              "      <th>...</th>\n",
              "      <th>tqwt_kurtosisValue_dec_33</th>\n",
              "      <th>tqwt_kurtosisValue_dec_34</th>\n",
              "      <th>tqwt_kurtosisValue_dec_35</th>\n",
              "      <th>tqwt_kurtosisValue_dec_36</th>\n",
              "      <th>class</th>\n",
              "    </tr>\n",
              "  </thead>\n",
              "  <tbody>\n",
              "    <tr>\n",
              "      <th>383</th>\n",
              "      <td>127</td>\n",
              "      <td>1</td>\n",
              "      <td>0.81547</td>\n",
              "      <td>0.64809</td>\n",
              "      <td>0.60227</td>\n",
              "      <td>...</td>\n",
              "      <td>2.4950</td>\n",
              "      <td>13.3860</td>\n",
              "      <td>13.2860</td>\n",
              "      <td>53.4437</td>\n",
              "      <td>1</td>\n",
              "    </tr>\n",
              "    <tr>\n",
              "      <th>293</th>\n",
              "      <td>97</td>\n",
              "      <td>0</td>\n",
              "      <td>0.39898</td>\n",
              "      <td>0.64777</td>\n",
              "      <td>0.57496</td>\n",
              "      <td>...</td>\n",
              "      <td>2.2564</td>\n",
              "      <td>6.5052</td>\n",
              "      <td>8.8987</td>\n",
              "      <td>27.2229</td>\n",
              "      <td>1</td>\n",
              "    </tr>\n",
              "    <tr>\n",
              "      <th>697</th>\n",
              "      <td>232</td>\n",
              "      <td>0</td>\n",
              "      <td>0.84775</td>\n",
              "      <td>0.65800</td>\n",
              "      <td>0.38510</td>\n",
              "      <td>...</td>\n",
              "      <td>18.1582</td>\n",
              "      <td>8.6742</td>\n",
              "      <td>5.0340</td>\n",
              "      <td>6.7276</td>\n",
              "      <td>0</td>\n",
              "    </tr>\n",
              "    <tr>\n",
              "      <th>539</th>\n",
              "      <td>179</td>\n",
              "      <td>1</td>\n",
              "      <td>0.41722</td>\n",
              "      <td>0.69852</td>\n",
              "      <td>0.78771</td>\n",
              "      <td>...</td>\n",
              "      <td>4.8850</td>\n",
              "      <td>4.0145</td>\n",
              "      <td>5.8718</td>\n",
              "      <td>5.9461</td>\n",
              "      <td>1</td>\n",
              "    </tr>\n",
              "    <tr>\n",
              "      <th>96</th>\n",
              "      <td>32</td>\n",
              "      <td>1</td>\n",
              "      <td>0.44989</td>\n",
              "      <td>0.79230</td>\n",
              "      <td>0.76099</td>\n",
              "      <td>...</td>\n",
              "      <td>3.4521</td>\n",
              "      <td>3.6795</td>\n",
              "      <td>3.6813</td>\n",
              "      <td>28.3090</td>\n",
              "      <td>1</td>\n",
              "    </tr>\n",
              "  </tbody>\n",
              "</table>\n",
              "<p>5 rows × 755 columns</p>\n",
              "</div>\n",
              "    <div class=\"colab-df-buttons\">\n",
              "\n",
              "  <div class=\"colab-df-container\">\n",
              "    <button class=\"colab-df-convert\" onclick=\"convertToInteractive('df-d048718f-ed37-42f2-b1bb-f8111aad00ae')\"\n",
              "            title=\"Convert this dataframe to an interactive table.\"\n",
              "            style=\"display:none;\">\n",
              "\n",
              "  <svg xmlns=\"http://www.w3.org/2000/svg\" height=\"24px\" viewBox=\"0 -960 960 960\">\n",
              "    <path d=\"M120-120v-720h720v720H120Zm60-500h600v-160H180v160Zm220 220h160v-160H400v160Zm0 220h160v-160H400v160ZM180-400h160v-160H180v160Zm440 0h160v-160H620v160ZM180-180h160v-160H180v160Zm440 0h160v-160H620v160Z\"/>\n",
              "  </svg>\n",
              "    </button>\n",
              "\n",
              "  <style>\n",
              "    .colab-df-container {\n",
              "      display:flex;\n",
              "      gap: 12px;\n",
              "    }\n",
              "\n",
              "    .colab-df-convert {\n",
              "      background-color: #E8F0FE;\n",
              "      border: none;\n",
              "      border-radius: 50%;\n",
              "      cursor: pointer;\n",
              "      display: none;\n",
              "      fill: #1967D2;\n",
              "      height: 32px;\n",
              "      padding: 0 0 0 0;\n",
              "      width: 32px;\n",
              "    }\n",
              "\n",
              "    .colab-df-convert:hover {\n",
              "      background-color: #E2EBFA;\n",
              "      box-shadow: 0px 1px 2px rgba(60, 64, 67, 0.3), 0px 1px 3px 1px rgba(60, 64, 67, 0.15);\n",
              "      fill: #174EA6;\n",
              "    }\n",
              "\n",
              "    .colab-df-buttons div {\n",
              "      margin-bottom: 4px;\n",
              "    }\n",
              "\n",
              "    [theme=dark] .colab-df-convert {\n",
              "      background-color: #3B4455;\n",
              "      fill: #D2E3FC;\n",
              "    }\n",
              "\n",
              "    [theme=dark] .colab-df-convert:hover {\n",
              "      background-color: #434B5C;\n",
              "      box-shadow: 0px 1px 3px 1px rgba(0, 0, 0, 0.15);\n",
              "      filter: drop-shadow(0px 1px 2px rgba(0, 0, 0, 0.3));\n",
              "      fill: #FFFFFF;\n",
              "    }\n",
              "  </style>\n",
              "\n",
              "    <script>\n",
              "      const buttonEl =\n",
              "        document.querySelector('#df-d048718f-ed37-42f2-b1bb-f8111aad00ae button.colab-df-convert');\n",
              "      buttonEl.style.display =\n",
              "        google.colab.kernel.accessAllowed ? 'block' : 'none';\n",
              "\n",
              "      async function convertToInteractive(key) {\n",
              "        const element = document.querySelector('#df-d048718f-ed37-42f2-b1bb-f8111aad00ae');\n",
              "        const dataTable =\n",
              "          await google.colab.kernel.invokeFunction('convertToInteractive',\n",
              "                                                    [key], {});\n",
              "        if (!dataTable) return;\n",
              "\n",
              "        const docLinkHtml = 'Like what you see? Visit the ' +\n",
              "          '<a target=\"_blank\" href=https://colab.research.google.com/notebooks/data_table.ipynb>data table notebook</a>'\n",
              "          + ' to learn more about interactive tables.';\n",
              "        element.innerHTML = '';\n",
              "        dataTable['output_type'] = 'display_data';\n",
              "        await google.colab.output.renderOutput(dataTable, element);\n",
              "        const docLink = document.createElement('div');\n",
              "        docLink.innerHTML = docLinkHtml;\n",
              "        element.appendChild(docLink);\n",
              "      }\n",
              "    </script>\n",
              "  </div>\n",
              "\n",
              "\n",
              "    <div id=\"df-f9cfa164-ed83-4e3f-bf4e-a35ffd03e646\">\n",
              "      <button class=\"colab-df-quickchart\" onclick=\"quickchart('df-f9cfa164-ed83-4e3f-bf4e-a35ffd03e646')\"\n",
              "                title=\"Suggest charts\"\n",
              "                style=\"display:none;\">\n",
              "\n",
              "<svg xmlns=\"http://www.w3.org/2000/svg\" height=\"24px\"viewBox=\"0 0 24 24\"\n",
              "     width=\"24px\">\n",
              "    <g>\n",
              "        <path d=\"M19 3H5c-1.1 0-2 .9-2 2v14c0 1.1.9 2 2 2h14c1.1 0 2-.9 2-2V5c0-1.1-.9-2-2-2zM9 17H7v-7h2v7zm4 0h-2V7h2v10zm4 0h-2v-4h2v4z\"/>\n",
              "    </g>\n",
              "</svg>\n",
              "      </button>\n",
              "\n",
              "<style>\n",
              "  .colab-df-quickchart {\n",
              "      --bg-color: #E8F0FE;\n",
              "      --fill-color: #1967D2;\n",
              "      --hover-bg-color: #E2EBFA;\n",
              "      --hover-fill-color: #174EA6;\n",
              "      --disabled-fill-color: #AAA;\n",
              "      --disabled-bg-color: #DDD;\n",
              "  }\n",
              "\n",
              "  [theme=dark] .colab-df-quickchart {\n",
              "      --bg-color: #3B4455;\n",
              "      --fill-color: #D2E3FC;\n",
              "      --hover-bg-color: #434B5C;\n",
              "      --hover-fill-color: #FFFFFF;\n",
              "      --disabled-bg-color: #3B4455;\n",
              "      --disabled-fill-color: #666;\n",
              "  }\n",
              "\n",
              "  .colab-df-quickchart {\n",
              "    background-color: var(--bg-color);\n",
              "    border: none;\n",
              "    border-radius: 50%;\n",
              "    cursor: pointer;\n",
              "    display: none;\n",
              "    fill: var(--fill-color);\n",
              "    height: 32px;\n",
              "    padding: 0;\n",
              "    width: 32px;\n",
              "  }\n",
              "\n",
              "  .colab-df-quickchart:hover {\n",
              "    background-color: var(--hover-bg-color);\n",
              "    box-shadow: 0 1px 2px rgba(60, 64, 67, 0.3), 0 1px 3px 1px rgba(60, 64, 67, 0.15);\n",
              "    fill: var(--button-hover-fill-color);\n",
              "  }\n",
              "\n",
              "  .colab-df-quickchart-complete:disabled,\n",
              "  .colab-df-quickchart-complete:disabled:hover {\n",
              "    background-color: var(--disabled-bg-color);\n",
              "    fill: var(--disabled-fill-color);\n",
              "    box-shadow: none;\n",
              "  }\n",
              "\n",
              "  .colab-df-spinner {\n",
              "    border: 2px solid var(--fill-color);\n",
              "    border-color: transparent;\n",
              "    border-bottom-color: var(--fill-color);\n",
              "    animation:\n",
              "      spin 1s steps(1) infinite;\n",
              "  }\n",
              "\n",
              "  @keyframes spin {\n",
              "    0% {\n",
              "      border-color: transparent;\n",
              "      border-bottom-color: var(--fill-color);\n",
              "      border-left-color: var(--fill-color);\n",
              "    }\n",
              "    20% {\n",
              "      border-color: transparent;\n",
              "      border-left-color: var(--fill-color);\n",
              "      border-top-color: var(--fill-color);\n",
              "    }\n",
              "    30% {\n",
              "      border-color: transparent;\n",
              "      border-left-color: var(--fill-color);\n",
              "      border-top-color: var(--fill-color);\n",
              "      border-right-color: var(--fill-color);\n",
              "    }\n",
              "    40% {\n",
              "      border-color: transparent;\n",
              "      border-right-color: var(--fill-color);\n",
              "      border-top-color: var(--fill-color);\n",
              "    }\n",
              "    60% {\n",
              "      border-color: transparent;\n",
              "      border-right-color: var(--fill-color);\n",
              "    }\n",
              "    80% {\n",
              "      border-color: transparent;\n",
              "      border-right-color: var(--fill-color);\n",
              "      border-bottom-color: var(--fill-color);\n",
              "    }\n",
              "    90% {\n",
              "      border-color: transparent;\n",
              "      border-bottom-color: var(--fill-color);\n",
              "    }\n",
              "  }\n",
              "</style>\n",
              "\n",
              "      <script>\n",
              "        async function quickchart(key) {\n",
              "          const quickchartButtonEl =\n",
              "            document.querySelector('#' + key + ' button');\n",
              "          quickchartButtonEl.disabled = true;  // To prevent multiple clicks.\n",
              "          quickchartButtonEl.classList.add('colab-df-spinner');\n",
              "          try {\n",
              "            const charts = await google.colab.kernel.invokeFunction(\n",
              "                'suggestCharts', [key], {});\n",
              "          } catch (error) {\n",
              "            console.error('Error during call to suggestCharts:', error);\n",
              "          }\n",
              "          quickchartButtonEl.classList.remove('colab-df-spinner');\n",
              "          quickchartButtonEl.classList.add('colab-df-quickchart-complete');\n",
              "        }\n",
              "        (() => {\n",
              "          let quickchartButtonEl =\n",
              "            document.querySelector('#df-f9cfa164-ed83-4e3f-bf4e-a35ffd03e646 button');\n",
              "          quickchartButtonEl.style.display =\n",
              "            google.colab.kernel.accessAllowed ? 'block' : 'none';\n",
              "        })();\n",
              "      </script>\n",
              "    </div>\n",
              "\n",
              "    </div>\n",
              "  </div>\n"
            ],
            "application/vnd.google.colaboratory.intrinsic+json": {
              "type": "dataframe"
            }
          },
          "metadata": {}
        }
      ]
    },
    {
      "cell_type": "markdown",
      "source": [
        "# 3. Data Exploration and Cleaning"
      ],
      "metadata": {
        "id": "2PB8uxZFTlvJ"
      }
    },
    {
      "cell_type": "markdown",
      "source": [
        "\n",
        "To understand the dataset better we use some built-in functions from the Pandas library. These functions help us inspect the structure, data types and statistical properties of the dataset.\n",
        "\n",
        "* df.info(): Displays the total number of rows and columns, the data types of each column and the count of non-null values. This helps identify missing data and column types.\n",
        "\n",
        "* df.describe().T: Provides a transposed statistical summary of numerical columns, including the mean, standard deviation, minimum and maximum values as well as quartiles. This helps us understand the distribution of the data.\n",
        "\n",
        "* df.isnull().sum().sum(): Checks the total number of missing values in the dataset. If this returns 0 it means there are no missing values. If there are any null/missing values then we start with the data cleaning process to handle those values."
      ],
      "metadata": {
        "id": "o3DaTcgFT8oT"
      }
    },
    {
      "cell_type": "code",
      "source": [
        "df.info()"
      ],
      "metadata": {
        "colab": {
          "base_uri": "https://localhost:8080/"
        },
        "id": "vGez1Dx9TrK8",
        "outputId": "95db48ff-e65a-4e72-f928-04a1cd8bd7f6"
      },
      "execution_count": 7,
      "outputs": [
        {
          "output_type": "stream",
          "name": "stdout",
          "text": [
            "<class 'pandas.core.frame.DataFrame'>\n",
            "RangeIndex: 756 entries, 0 to 755\n",
            "Columns: 755 entries, id to class\n",
            "dtypes: float64(749), int64(6)\n",
            "memory usage: 4.4 MB\n"
          ]
        }
      ]
    },
    {
      "cell_type": "code",
      "source": [
        "df.describe().T"
      ],
      "metadata": {
        "colab": {
          "base_uri": "https://localhost:8080/",
          "height": 423
        },
        "id": "RDKg3reGTuuq",
        "outputId": "03799cd9-fdae-4ec8-e5a6-8af9e5434e23"
      },
      "execution_count": 8,
      "outputs": [
        {
          "output_type": "execute_result",
          "data": {
            "text/plain": [
              "                           count        mean        std       min        25%  \\\n",
              "id                         756.0  125.500000  72.793721  0.000000  62.750000   \n",
              "gender                     756.0    0.515873   0.500079  0.000000   0.000000   \n",
              "PPE                        756.0    0.746284   0.169294  0.041551   0.762833   \n",
              "DFA                        756.0    0.700414   0.069718  0.543500   0.647053   \n",
              "RPDE                       756.0    0.489058   0.137442  0.154300   0.386537   \n",
              "...                          ...         ...        ...       ...        ...   \n",
              "tqwt_kurtosisValue_dec_33  756.0   12.375335  16.341665  1.628700   3.114375   \n",
              "tqwt_kurtosisValue_dec_34  756.0   14.799230  15.722502  1.861700   3.665925   \n",
              "tqwt_kurtosisValue_dec_35  756.0   14.751559  14.432979  1.955900   3.741275   \n",
              "tqwt_kurtosisValue_dec_36  756.0   31.481110  34.230991  2.364000   3.948750   \n",
              "class                      756.0    0.746032   0.435568  0.000000   0.000000   \n",
              "\n",
              "                                  50%         75%        max  \n",
              "id                         125.500000  188.250000  251.00000  \n",
              "gender                       1.000000    1.000000    1.00000  \n",
              "PPE                          0.809655    0.834315    0.90766  \n",
              "DFA                          0.700525    0.754985    0.85264  \n",
              "RPDE                         0.484355    0.586515    0.87123  \n",
              "...                               ...         ...        ...  \n",
              "tqwt_kurtosisValue_dec_33    4.741450   12.201325   73.53220  \n",
              "tqwt_kurtosisValue_dec_34    6.725700   21.922050   62.00730  \n",
              "tqwt_kurtosisValue_dec_35    7.334250   22.495175   57.54430  \n",
              "tqwt_kurtosisValue_dec_36   10.637250   61.125325  156.42370  \n",
              "class                        1.000000    1.000000    1.00000  \n",
              "\n",
              "[755 rows x 8 columns]"
            ],
            "text/html": [
              "\n",
              "  <div id=\"df-1ee09284-3456-49b9-b068-3519413132ce\" class=\"colab-df-container\">\n",
              "    <div>\n",
              "<style scoped>\n",
              "    .dataframe tbody tr th:only-of-type {\n",
              "        vertical-align: middle;\n",
              "    }\n",
              "\n",
              "    .dataframe tbody tr th {\n",
              "        vertical-align: top;\n",
              "    }\n",
              "\n",
              "    .dataframe thead th {\n",
              "        text-align: right;\n",
              "    }\n",
              "</style>\n",
              "<table border=\"1\" class=\"dataframe\">\n",
              "  <thead>\n",
              "    <tr style=\"text-align: right;\">\n",
              "      <th></th>\n",
              "      <th>count</th>\n",
              "      <th>mean</th>\n",
              "      <th>std</th>\n",
              "      <th>min</th>\n",
              "      <th>25%</th>\n",
              "      <th>50%</th>\n",
              "      <th>75%</th>\n",
              "      <th>max</th>\n",
              "    </tr>\n",
              "  </thead>\n",
              "  <tbody>\n",
              "    <tr>\n",
              "      <th>id</th>\n",
              "      <td>756.0</td>\n",
              "      <td>125.500000</td>\n",
              "      <td>72.793721</td>\n",
              "      <td>0.000000</td>\n",
              "      <td>62.750000</td>\n",
              "      <td>125.500000</td>\n",
              "      <td>188.250000</td>\n",
              "      <td>251.00000</td>\n",
              "    </tr>\n",
              "    <tr>\n",
              "      <th>gender</th>\n",
              "      <td>756.0</td>\n",
              "      <td>0.515873</td>\n",
              "      <td>0.500079</td>\n",
              "      <td>0.000000</td>\n",
              "      <td>0.000000</td>\n",
              "      <td>1.000000</td>\n",
              "      <td>1.000000</td>\n",
              "      <td>1.00000</td>\n",
              "    </tr>\n",
              "    <tr>\n",
              "      <th>PPE</th>\n",
              "      <td>756.0</td>\n",
              "      <td>0.746284</td>\n",
              "      <td>0.169294</td>\n",
              "      <td>0.041551</td>\n",
              "      <td>0.762833</td>\n",
              "      <td>0.809655</td>\n",
              "      <td>0.834315</td>\n",
              "      <td>0.90766</td>\n",
              "    </tr>\n",
              "    <tr>\n",
              "      <th>DFA</th>\n",
              "      <td>756.0</td>\n",
              "      <td>0.700414</td>\n",
              "      <td>0.069718</td>\n",
              "      <td>0.543500</td>\n",
              "      <td>0.647053</td>\n",
              "      <td>0.700525</td>\n",
              "      <td>0.754985</td>\n",
              "      <td>0.85264</td>\n",
              "    </tr>\n",
              "    <tr>\n",
              "      <th>RPDE</th>\n",
              "      <td>756.0</td>\n",
              "      <td>0.489058</td>\n",
              "      <td>0.137442</td>\n",
              "      <td>0.154300</td>\n",
              "      <td>0.386537</td>\n",
              "      <td>0.484355</td>\n",
              "      <td>0.586515</td>\n",
              "      <td>0.87123</td>\n",
              "    </tr>\n",
              "    <tr>\n",
              "      <th>...</th>\n",
              "      <td>...</td>\n",
              "      <td>...</td>\n",
              "      <td>...</td>\n",
              "      <td>...</td>\n",
              "      <td>...</td>\n",
              "      <td>...</td>\n",
              "      <td>...</td>\n",
              "      <td>...</td>\n",
              "    </tr>\n",
              "    <tr>\n",
              "      <th>tqwt_kurtosisValue_dec_33</th>\n",
              "      <td>756.0</td>\n",
              "      <td>12.375335</td>\n",
              "      <td>16.341665</td>\n",
              "      <td>1.628700</td>\n",
              "      <td>3.114375</td>\n",
              "      <td>4.741450</td>\n",
              "      <td>12.201325</td>\n",
              "      <td>73.53220</td>\n",
              "    </tr>\n",
              "    <tr>\n",
              "      <th>tqwt_kurtosisValue_dec_34</th>\n",
              "      <td>756.0</td>\n",
              "      <td>14.799230</td>\n",
              "      <td>15.722502</td>\n",
              "      <td>1.861700</td>\n",
              "      <td>3.665925</td>\n",
              "      <td>6.725700</td>\n",
              "      <td>21.922050</td>\n",
              "      <td>62.00730</td>\n",
              "    </tr>\n",
              "    <tr>\n",
              "      <th>tqwt_kurtosisValue_dec_35</th>\n",
              "      <td>756.0</td>\n",
              "      <td>14.751559</td>\n",
              "      <td>14.432979</td>\n",
              "      <td>1.955900</td>\n",
              "      <td>3.741275</td>\n",
              "      <td>7.334250</td>\n",
              "      <td>22.495175</td>\n",
              "      <td>57.54430</td>\n",
              "    </tr>\n",
              "    <tr>\n",
              "      <th>tqwt_kurtosisValue_dec_36</th>\n",
              "      <td>756.0</td>\n",
              "      <td>31.481110</td>\n",
              "      <td>34.230991</td>\n",
              "      <td>2.364000</td>\n",
              "      <td>3.948750</td>\n",
              "      <td>10.637250</td>\n",
              "      <td>61.125325</td>\n",
              "      <td>156.42370</td>\n",
              "    </tr>\n",
              "    <tr>\n",
              "      <th>class</th>\n",
              "      <td>756.0</td>\n",
              "      <td>0.746032</td>\n",
              "      <td>0.435568</td>\n",
              "      <td>0.000000</td>\n",
              "      <td>0.000000</td>\n",
              "      <td>1.000000</td>\n",
              "      <td>1.000000</td>\n",
              "      <td>1.00000</td>\n",
              "    </tr>\n",
              "  </tbody>\n",
              "</table>\n",
              "<p>755 rows × 8 columns</p>\n",
              "</div>\n",
              "    <div class=\"colab-df-buttons\">\n",
              "\n",
              "  <div class=\"colab-df-container\">\n",
              "    <button class=\"colab-df-convert\" onclick=\"convertToInteractive('df-1ee09284-3456-49b9-b068-3519413132ce')\"\n",
              "            title=\"Convert this dataframe to an interactive table.\"\n",
              "            style=\"display:none;\">\n",
              "\n",
              "  <svg xmlns=\"http://www.w3.org/2000/svg\" height=\"24px\" viewBox=\"0 -960 960 960\">\n",
              "    <path d=\"M120-120v-720h720v720H120Zm60-500h600v-160H180v160Zm220 220h160v-160H400v160Zm0 220h160v-160H400v160ZM180-400h160v-160H180v160Zm440 0h160v-160H620v160ZM180-180h160v-160H180v160Zm440 0h160v-160H620v160Z\"/>\n",
              "  </svg>\n",
              "    </button>\n",
              "\n",
              "  <style>\n",
              "    .colab-df-container {\n",
              "      display:flex;\n",
              "      gap: 12px;\n",
              "    }\n",
              "\n",
              "    .colab-df-convert {\n",
              "      background-color: #E8F0FE;\n",
              "      border: none;\n",
              "      border-radius: 50%;\n",
              "      cursor: pointer;\n",
              "      display: none;\n",
              "      fill: #1967D2;\n",
              "      height: 32px;\n",
              "      padding: 0 0 0 0;\n",
              "      width: 32px;\n",
              "    }\n",
              "\n",
              "    .colab-df-convert:hover {\n",
              "      background-color: #E2EBFA;\n",
              "      box-shadow: 0px 1px 2px rgba(60, 64, 67, 0.3), 0px 1px 3px 1px rgba(60, 64, 67, 0.15);\n",
              "      fill: #174EA6;\n",
              "    }\n",
              "\n",
              "    .colab-df-buttons div {\n",
              "      margin-bottom: 4px;\n",
              "    }\n",
              "\n",
              "    [theme=dark] .colab-df-convert {\n",
              "      background-color: #3B4455;\n",
              "      fill: #D2E3FC;\n",
              "    }\n",
              "\n",
              "    [theme=dark] .colab-df-convert:hover {\n",
              "      background-color: #434B5C;\n",
              "      box-shadow: 0px 1px 3px 1px rgba(0, 0, 0, 0.15);\n",
              "      filter: drop-shadow(0px 1px 2px rgba(0, 0, 0, 0.3));\n",
              "      fill: #FFFFFF;\n",
              "    }\n",
              "  </style>\n",
              "\n",
              "    <script>\n",
              "      const buttonEl =\n",
              "        document.querySelector('#df-1ee09284-3456-49b9-b068-3519413132ce button.colab-df-convert');\n",
              "      buttonEl.style.display =\n",
              "        google.colab.kernel.accessAllowed ? 'block' : 'none';\n",
              "\n",
              "      async function convertToInteractive(key) {\n",
              "        const element = document.querySelector('#df-1ee09284-3456-49b9-b068-3519413132ce');\n",
              "        const dataTable =\n",
              "          await google.colab.kernel.invokeFunction('convertToInteractive',\n",
              "                                                    [key], {});\n",
              "        if (!dataTable) return;\n",
              "\n",
              "        const docLinkHtml = 'Like what you see? Visit the ' +\n",
              "          '<a target=\"_blank\" href=https://colab.research.google.com/notebooks/data_table.ipynb>data table notebook</a>'\n",
              "          + ' to learn more about interactive tables.';\n",
              "        element.innerHTML = '';\n",
              "        dataTable['output_type'] = 'display_data';\n",
              "        await google.colab.output.renderOutput(dataTable, element);\n",
              "        const docLink = document.createElement('div');\n",
              "        docLink.innerHTML = docLinkHtml;\n",
              "        element.appendChild(docLink);\n",
              "      }\n",
              "    </script>\n",
              "  </div>\n",
              "\n",
              "\n",
              "    <div id=\"df-5e642399-32af-497b-ade5-454269308867\">\n",
              "      <button class=\"colab-df-quickchart\" onclick=\"quickchart('df-5e642399-32af-497b-ade5-454269308867')\"\n",
              "                title=\"Suggest charts\"\n",
              "                style=\"display:none;\">\n",
              "\n",
              "<svg xmlns=\"http://www.w3.org/2000/svg\" height=\"24px\"viewBox=\"0 0 24 24\"\n",
              "     width=\"24px\">\n",
              "    <g>\n",
              "        <path d=\"M19 3H5c-1.1 0-2 .9-2 2v14c0 1.1.9 2 2 2h14c1.1 0 2-.9 2-2V5c0-1.1-.9-2-2-2zM9 17H7v-7h2v7zm4 0h-2V7h2v10zm4 0h-2v-4h2v4z\"/>\n",
              "    </g>\n",
              "</svg>\n",
              "      </button>\n",
              "\n",
              "<style>\n",
              "  .colab-df-quickchart {\n",
              "      --bg-color: #E8F0FE;\n",
              "      --fill-color: #1967D2;\n",
              "      --hover-bg-color: #E2EBFA;\n",
              "      --hover-fill-color: #174EA6;\n",
              "      --disabled-fill-color: #AAA;\n",
              "      --disabled-bg-color: #DDD;\n",
              "  }\n",
              "\n",
              "  [theme=dark] .colab-df-quickchart {\n",
              "      --bg-color: #3B4455;\n",
              "      --fill-color: #D2E3FC;\n",
              "      --hover-bg-color: #434B5C;\n",
              "      --hover-fill-color: #FFFFFF;\n",
              "      --disabled-bg-color: #3B4455;\n",
              "      --disabled-fill-color: #666;\n",
              "  }\n",
              "\n",
              "  .colab-df-quickchart {\n",
              "    background-color: var(--bg-color);\n",
              "    border: none;\n",
              "    border-radius: 50%;\n",
              "    cursor: pointer;\n",
              "    display: none;\n",
              "    fill: var(--fill-color);\n",
              "    height: 32px;\n",
              "    padding: 0;\n",
              "    width: 32px;\n",
              "  }\n",
              "\n",
              "  .colab-df-quickchart:hover {\n",
              "    background-color: var(--hover-bg-color);\n",
              "    box-shadow: 0 1px 2px rgba(60, 64, 67, 0.3), 0 1px 3px 1px rgba(60, 64, 67, 0.15);\n",
              "    fill: var(--button-hover-fill-color);\n",
              "  }\n",
              "\n",
              "  .colab-df-quickchart-complete:disabled,\n",
              "  .colab-df-quickchart-complete:disabled:hover {\n",
              "    background-color: var(--disabled-bg-color);\n",
              "    fill: var(--disabled-fill-color);\n",
              "    box-shadow: none;\n",
              "  }\n",
              "\n",
              "  .colab-df-spinner {\n",
              "    border: 2px solid var(--fill-color);\n",
              "    border-color: transparent;\n",
              "    border-bottom-color: var(--fill-color);\n",
              "    animation:\n",
              "      spin 1s steps(1) infinite;\n",
              "  }\n",
              "\n",
              "  @keyframes spin {\n",
              "    0% {\n",
              "      border-color: transparent;\n",
              "      border-bottom-color: var(--fill-color);\n",
              "      border-left-color: var(--fill-color);\n",
              "    }\n",
              "    20% {\n",
              "      border-color: transparent;\n",
              "      border-left-color: var(--fill-color);\n",
              "      border-top-color: var(--fill-color);\n",
              "    }\n",
              "    30% {\n",
              "      border-color: transparent;\n",
              "      border-left-color: var(--fill-color);\n",
              "      border-top-color: var(--fill-color);\n",
              "      border-right-color: var(--fill-color);\n",
              "    }\n",
              "    40% {\n",
              "      border-color: transparent;\n",
              "      border-right-color: var(--fill-color);\n",
              "      border-top-color: var(--fill-color);\n",
              "    }\n",
              "    60% {\n",
              "      border-color: transparent;\n",
              "      border-right-color: var(--fill-color);\n",
              "    }\n",
              "    80% {\n",
              "      border-color: transparent;\n",
              "      border-right-color: var(--fill-color);\n",
              "      border-bottom-color: var(--fill-color);\n",
              "    }\n",
              "    90% {\n",
              "      border-color: transparent;\n",
              "      border-bottom-color: var(--fill-color);\n",
              "    }\n",
              "  }\n",
              "</style>\n",
              "\n",
              "      <script>\n",
              "        async function quickchart(key) {\n",
              "          const quickchartButtonEl =\n",
              "            document.querySelector('#' + key + ' button');\n",
              "          quickchartButtonEl.disabled = true;  // To prevent multiple clicks.\n",
              "          quickchartButtonEl.classList.add('colab-df-spinner');\n",
              "          try {\n",
              "            const charts = await google.colab.kernel.invokeFunction(\n",
              "                'suggestCharts', [key], {});\n",
              "          } catch (error) {\n",
              "            console.error('Error during call to suggestCharts:', error);\n",
              "          }\n",
              "          quickchartButtonEl.classList.remove('colab-df-spinner');\n",
              "          quickchartButtonEl.classList.add('colab-df-quickchart-complete');\n",
              "        }\n",
              "        (() => {\n",
              "          let quickchartButtonEl =\n",
              "            document.querySelector('#df-5e642399-32af-497b-ade5-454269308867 button');\n",
              "          quickchartButtonEl.style.display =\n",
              "            google.colab.kernel.accessAllowed ? 'block' : 'none';\n",
              "        })();\n",
              "      </script>\n",
              "    </div>\n",
              "\n",
              "    </div>\n",
              "  </div>\n"
            ],
            "application/vnd.google.colaboratory.intrinsic+json": {
              "type": "dataframe",
              "summary": "{\n  \"name\": \"df\",\n  \"rows\": 755,\n  \"fields\": [\n    {\n      \"column\": \"count\",\n      \"properties\": {\n        \"dtype\": \"number\",\n        \"std\": 0.0,\n        \"min\": 756.0,\n        \"max\": 756.0,\n        \"num_unique_values\": 1,\n        \"samples\": [\n          756.0\n        ],\n        \"semantic_type\": \"\",\n        \"description\": \"\"\n      }\n    },\n    {\n      \"column\": \"mean\",\n      \"properties\": {\n        \"dtype\": \"number\",\n        \"std\": 374622395.71923405,\n        \"min\": -9029632763.215609,\n        \"max\": 12099556.09835979,\n        \"num_unique_values\": 755,\n        \"samples\": [\n          -4143374.954075397\n        ],\n        \"semantic_type\": \"\",\n        \"description\": \"\"\n      }\n    },\n    {\n      \"column\": \"std\",\n      \"properties\": {\n        \"dtype\": \"number\",\n        \"std\": 236810548.13221908,\n        \"min\": 5.7338262951403425e-21,\n        \"max\": 5703424049.268989,\n        \"num_unique_values\": 755,\n        \"samples\": [\n          487675.08280652296\n        ],\n        \"semantic_type\": \"\",\n        \"description\": \"\"\n      }\n    },\n    {\n      \"column\": \"min\",\n      \"properties\": {\n        \"dtype\": \"number\",\n        \"std\": 2578254179.0303726,\n        \"min\": -62062235037.0,\n        \"max\": 2213588.67,\n        \"num_unique_values\": 743,\n        \"samples\": [\n          -0.3828\n        ],\n        \"semantic_type\": \"\",\n        \"description\": \"\"\n      }\n    },\n    {\n      \"column\": \"25%\",\n      \"properties\": {\n        \"dtype\": \"number\",\n        \"std\": 473008476.38622814,\n        \"min\": -11400959583.75,\n        \"max\": 7183016.246,\n        \"num_unique_values\": 753,\n        \"samples\": [\n          -0.9168375\n        ],\n        \"semantic_type\": \"\",\n        \"description\": \"\"\n      }\n    },\n    {\n      \"column\": \"50%\",\n      \"properties\": {\n        \"dtype\": \"number\",\n        \"std\": 325558429.5620674,\n        \"min\": -7849142473.5,\n        \"max\": 10662958.870000001,\n        \"num_unique_values\": 735,\n        \"samples\": [\n          0.0016652\n        ],\n        \"semantic_type\": \"\",\n        \"description\": \"\"\n      }\n    },\n    {\n      \"column\": \"75%\",\n      \"properties\": {\n        \"dtype\": \"number\",\n        \"std\": 212971693.58083302,\n        \"min\": -5136087772.75,\n        \"max\": 15134891.325000001,\n        \"num_unique_values\": 752,\n        \"samples\": [\n          0.07430725\n        ],\n        \"semantic_type\": \"\",\n        \"description\": \"\"\n      }\n    },\n    {\n      \"column\": \"max\",\n      \"properties\": {\n        \"dtype\": \"number\",\n        \"std\": 58324013.06010493,\n        \"min\": -1399384344.0,\n        \"max\": 74325483.41,\n        \"num_unique_values\": 752,\n        \"samples\": [\n          0.50277\n        ],\n        \"semantic_type\": \"\",\n        \"description\": \"\"\n      }\n    }\n  ]\n}"
            }
          },
          "metadata": {},
          "execution_count": 8
        }
      ]
    },
    {
      "cell_type": "code",
      "source": [
        "df.isnull().sum().sum()"
      ],
      "metadata": {
        "colab": {
          "base_uri": "https://localhost:8080/"
        },
        "id": "CbPHyZ4GULa0",
        "outputId": "a9722c3f-f06a-451c-9652-dcdc4e239a1c"
      },
      "execution_count": 9,
      "outputs": [
        {
          "output_type": "execute_result",
          "data": {
            "text/plain": [
              "np.int64(0)"
            ]
          },
          "metadata": {},
          "execution_count": 9
        }
      ]
    },
    {
      "cell_type": "markdown",
      "source": [
        "4. Data Wrangling\n",
        "\n",
        "Data wrangling involves restructuring and transforming the dataset to make it suitable for analysis. Since our dataset contains three observations for each patient we need to aggregate them to create a single representative record per patient. Here:\n",
        "\n",
        "* df.groupby('id').mean().reset_index(): Groups the dataset by the \"id\" column and calculates the mean of numerical features. This helps in aggregating multiple records of the same id (patient id).\n",
        "\n",
        "* df.drop('id', axis=1, inplace=True): Removes the \"id\" column as it is no longer needed after aggregation."
      ],
      "metadata": {
        "id": "q060pwWhUQsv"
      }
    },
    {
      "cell_type": "code",
      "source": [
        "df = df.groupby('id').mean().reset_index()\n",
        "df.drop('id', axis=1, inplace=True)"
      ],
      "metadata": {
        "id": "yrYOMZFaUYfi"
      },
      "execution_count": 10,
      "outputs": []
    },
    {
      "cell_type": "markdown",
      "source": [
        "Multicollinearity can negatively impact machine learning models by making them unstable and less interpretable. To handle this we identify and remove highly correlated features from our dataset. In this code:\n",
        "\n",
        "* df[col].corr(df[col1]): Computes the Pearson correlation coefficient between two numerical features.\n",
        "* If correlation > 0.7: The feature is considered highly correlated and is removed from the dataset to reduce redundancy.\n",
        "* The class column is excluded: Since it represents the target variable, we do not check its correlation with other features."
      ],
      "metadata": {
        "id": "IsEqJ8cSUe3s"
      }
    },
    {
      "cell_type": "code",
      "source": [
        "columns = list(df.columns)\n",
        "for col in columns:\n",
        "    if col == 'class':\n",
        "        continue\n",
        "\n",
        "    filtered_columns = [col]\n",
        "    for col1 in df.columns:\n",
        "        if((col == col1) | (col == 'class')):\n",
        "            continue\n",
        "\n",
        "        val = df[col].corr(df[col1])\n",
        "        if val > 0.7:\n",
        "            # If the correlation between the two features is more than 0.7, remove it\n",
        "            columns.remove(col1)\n",
        "            continue\n",
        "        else:\n",
        "            filtered_columns.append(col1)\n",
        "\n",
        "    df = df[filtered_columns]\n",
        "df.shape"
      ],
      "metadata": {
        "colab": {
          "base_uri": "https://localhost:8080/"
        },
        "id": "hNuMKYoRUpZC",
        "outputId": "41c51e0b-3f3e-41fd-dce2-7500db83486b"
      },
      "execution_count": 11,
      "outputs": [
        {
          "output_type": "execute_result",
          "data": {
            "text/plain": [
              "(252, 287)"
            ]
          },
          "metadata": {},
          "execution_count": 11
        }
      ]
    },
    {
      "cell_type": "markdown",
      "source": [
        "# 5. Feature Selection\n",
        "To improve model performance and reduce computational complexity we apply feature selection using the chi-square test to retain only the most relevant features. This helps eliminate redundant or less significant variables making the dataset more efficient for machine learning. Here:\n",
        "\n",
        "* X = df.drop('class', axis=1): Extracts the feature set by removing the target variable (class).\n",
        "* MinMaxScaler().fit_transform(X): Normalizes the feature values to a range of [0,1] using Min-Max Scaling. This ensures that all features contribute equally to the model.\n",
        "* SelectKBest(chi2, k=30): Applies the Chi-Square test to select the 30 most important features based on their relationship with the target variable (class).\n",
        "* selector.fit(X_norm, df['class']): Fits the feature selection model on the normalized data.\n",
        "* filtered_columns = selector.get_support(): Identifies the selected features.\n",
        "* filtered_data = X.loc[:, filtered_columns]: Extracts only the top 30 selected features.\n",
        "* filtered_data['class'] = df['class']: Reattaches the target variable (class) to the reduced dataset."
      ],
      "metadata": {
        "id": "fO6t_YUeU6_M"
      }
    },
    {
      "cell_type": "code",
      "source": [
        "X = df.drop('class', axis=1)\n",
        "X_norm = MinMaxScaler().fit_transform(X)\n",
        "selector = SelectKBest(chi2, k=30)\n",
        "selector.fit(X_norm, df['class'])\n",
        "filtered_columns = selector.get_support()\n",
        "filtered_data = X.loc[:, filtered_columns]\n",
        "filtered_data['class'] = df['class']\n",
        "df = filtered_data\n",
        "df.shape"
      ],
      "metadata": {
        "colab": {
          "base_uri": "https://localhost:8080/"
        },
        "id": "Gt_ltiB9VOYR",
        "outputId": "9ca4f214-9bbb-46a0-fef3-93ca74619725"
      },
      "execution_count": 12,
      "outputs": [
        {
          "output_type": "execute_result",
          "data": {
            "text/plain": [
              "(252, 31)"
            ]
          },
          "metadata": {},
          "execution_count": 12
        }
      ]
    },
    {
      "cell_type": "markdown",
      "source": [
        "# 6. Handling Class Imbalance and Splitting Data\n",
        "\n",
        "To understand the distribution of target classes in our dataset, we use a pie chart. This helps us check for class imbalances, which can impact model performance.\n",
        "\n",
        "* df['class'].value_counts(): Counts the occurrences of each class in the dataset.\n",
        "* plt.pie(x.values, labels=x.index, autopct='%1.1f%%'): Creates a pie chart\n",
        "* x.values: Represents the frequency of each class.\n",
        "* labels=x.index: Assigns class labels to each slice.\n",
        "* autopct='%1.1f%%': Displays percentages with one decimal place.\n",
        "\n",
        "\n",
        "This visualization helps us assess whether the dataset is balanced or imbalanced which is crucial when selecting appropriate evaluation metrics and model strategies"
      ],
      "metadata": {
        "id": "NMoTh-OKVUcL"
      }
    },
    {
      "cell_type": "code",
      "source": [
        "x = df['class'].value_counts()\n",
        "plt.pie(x.values,\n",
        "        labels = x.index,\n",
        "        autopct='%1.1f%%')\n",
        "plt.show()"
      ],
      "metadata": {
        "colab": {
          "base_uri": "https://localhost:8080/",
          "height": 406
        },
        "id": "2T1qJMyjVlYh",
        "outputId": "0e3ee29f-9029-4065-be1e-ff08336a6643"
      },
      "execution_count": 13,
      "outputs": [
        {
          "output_type": "display_data",
          "data": {
            "text/plain": [
              "<Figure size 640x480 with 1 Axes>"
            ],
            "image/png": "[encoded data removed]"
          },
          "metadata": {}
        }
      ]
    },
    {
      "cell_type": "markdown",
      "source": [
        "To build a robust machine learning model we need to address this class imbalance and properly split the dataset into training and validation sets. If the dataset is imbalanced the model may become biased toward the majority class making it difficult to correctly predict the minority class. Here: :\n",
        "\n",
        "* features = df.drop('class', axis=1): Extracts and stores independent variables.\n",
        "* target = df['class']: Stores the dependent variable.:\n",
        "* train_test_split(features, target, test_size=0.2, random_state=10): Allocates 80% of data for training and 20% for validation\n",
        "random_state=10 ensures reproducibility.\n",
        "* ros = RandomOverSampler(sampling_strategy='minority', random_state=0): Oversamples the minority class ensuring both classes have equal representation.\n",
        "* ros.fit_resample(X_train, Y_train): Applies oversampling to the training dataset."
      ],
      "metadata": {
        "id": "X__EDnlHVtYn"
      }
    },
    {
      "cell_type": "code",
      "source": [
        "features = df.drop('class', axis=1)\n",
        "target = df['class']\n",
        "\n",
        "X_train, X_val,Y_train, Y_val = train_test_split(features, target,\n",
        "                                      test_size=0.2,\n",
        "                                      random_state=10)\n",
        "\n",
        "ros = RandomOverSampler(sampling_strategy=1.0,\n",
        "                        random_state=0)\n",
        "X, Y = ros.fit_resample(X_train, Y_train)\n",
        "X.shape, Y.value_counts()"
      ],
      "metadata": {
        "colab": {
          "base_uri": "https://localhost:8080/"
        },
        "id": "vgevpGqEV4Yt",
        "outputId": "861b991d-e141-4a53-9cef-b1128ba0e72f"
      },
      "execution_count": 14,
      "outputs": [
        {
          "output_type": "execute_result",
          "data": {
            "text/plain": [
              "((302, 30),\n",
              " class\n",
              " 1.0    151\n",
              " 0.0    151\n",
              " Name: count, dtype: int64)"
            ]
          },
          "metadata": {},
          "execution_count": 14
        }
      ]
    },
    {
      "cell_type": "markdown",
      "source": [
        "# 7. Model Training and Evaluation"
      ],
      "metadata": {
        "id": "UQdn-H_HWQ7c"
      }
    },
    {
      "cell_type": "markdown",
      "source": [
        "After preparing the dataset, we train multiple machine learning models and evaluate their performance using the ROC AUC Score. This helps us compare different models and choose the best-performing one for our classification task. Here we are using three different classifiers : Logistic Regression, XGBoost Classifier and Support Vector Classifier.\n",
        "\n",
        "* model.fit(X_resampled, y_resampled: Trains each model in the \"models\" list .\n",
        "* model.predict(X_resampled): Predicts outcomes on the training data.\n",
        "* ras(y_resampled, train_preds): Computes the ROC AUC score for training accuracy.\n",
        "* model.predict(X_val): Predicts outcomes on the validation dataset.\n",
        "* ras(y_val, val_preds): Computes the ROC AUC score for validation accuracy."
      ],
      "metadata": {
        "id": "RzH4TBXrV-Zv"
      }
    },
    {
      "cell_type": "code",
      "source": [
        "from sklearn.metrics import roc_auc_score as ras\n",
        "\n",
        "models = [LogisticRegression(class_weight='balanced'), XGBClassifier(), SVC(kernel='rbf', probability=True)]\n",
        "for model in models:\n",
        "    model.fit(X, Y)\n",
        "    print(f'{model} : ')\n",
        "\n",
        "    train_preds = model.predict(X)\n",
        "    print('Training Accuracy : ', ras(Y, train_preds))\n",
        "\n",
        "    val_preds = model.predict(X_val)\n",
        "    print('Validation Accuracy : ', ras(Y_val, val_preds))\n",
        "    print()"
      ],
      "metadata": {
        "colab": {
          "base_uri": "https://localhost:8080/"
        },
        "id": "ekKAU_oLWfjx",
        "outputId": "1b80a93f-8341-4936-c4f9-d6df334620b7"
      },
      "execution_count": 15,
      "outputs": [
        {
          "output_type": "stream",
          "name": "stdout",
          "text": [
            "LogisticRegression(class_weight='balanced') : \n",
            "Training Accuracy :  0.7516556291390728\n",
            "Validation Accuracy :  0.8166023166023165\n",
            "\n",
            "XGBClassifier(base_score=None, booster=None, callbacks=None,\n",
            "              colsample_bylevel=None, colsample_bynode=None,\n",
            "              colsample_bytree=None, device=None, early_stopping_rounds=None,\n",
            "              enable_categorical=False, eval_metric=None, feature_types=None,\n",
            "              feature_weights=None, gamma=None, grow_policy=None,\n",
            "              importance_type=None, interaction_constraints=None,\n",
            "              learning_rate=None, max_bin=None, max_cat_threshold=None,\n",
            "              max_cat_to_onehot=None, max_delta_step=None, max_depth=None,\n",
            "              max_leaves=None, min_child_weight=None, missing=nan,\n",
            "              monotone_constraints=None, multi_strategy=None, n_estimators=None,\n",
            "              n_jobs=None, num_parallel_tree=None, ...) : \n",
            "Training Accuracy :  1.0\n",
            "Validation Accuracy :  0.6467181467181468\n",
            "\n",
            "SVC(probability=True) : \n",
            "Training Accuracy :  0.6258278145695364\n",
            "Validation Accuracy :  0.6457528957528957\n",
            "\n"
          ]
        }
      ]
    },
    {
      "cell_type": "markdown",
      "source": [
        "# 8. Analyzing Model Performance\n",
        "We will now plot confusion matrix on validation data) for the Logistic Regression model to further evaluate the model's predictive capability.\n",
        "\n",
        "* ConfusionMatrixDisplay.from_estimator(models[0], X_val, y_val): Uses the first model in the list (which is Logistic Regression) to make predictions on the validation set (X_val).\n",
        "* It then compares these predictions to the actual labels y_val to generate a confusion matrix."
      ],
      "metadata": {
        "id": "HbYBKyIzW6eQ"
      }
    },
    {
      "cell_type": "code",
      "source": [
        "from sklearn.metrics import ConfusionMatrixDisplay\n",
        "\n",
        "ConfusionMatrixDisplay.from_estimator(models[0], X_val, Y_val)\n",
        "plt.show()"
      ],
      "metadata": {
        "colab": {
          "base_uri": "https://localhost:8080/",
          "height": 449
        },
        "id": "AdeCg1hNXB7F",
        "outputId": "b20d09cc-30fc-4480-f181-ef1997340cdc"
      },
      "execution_count": 16,
      "outputs": [
        {
          "output_type": "display_data",
          "data": {
            "text/plain": [
              "<Figure size 640x480 with 2 Axes>"
            ],
            "image/png": "[encoded data removed]"
          },
          "metadata": {}
        }
      ]
    },
    {
      "cell_type": "markdown",
      "source": [
        "Upon analyzing this confusion matrix we are able to conclude that :\n",
        "\n",
        "* True Positives (TP) = 35 : The model correctly predicted 35 healthy individuals.\n",
        "* True Negatives (TN) = 10 : The model correctly predicted 10 unhealthy individuals.\n",
        "* False Positives (FP) = 4 : The model incorrectly classified 4 unhealthy individuals as healthy.\n",
        "* False Negatives (FN) = 2 : The model incorrectly classified 2 healthy individuals as unhealthy.\n",
        "\n",
        "This analysis concludes that the model correctly classifies most cases but still misclassified a few unhealthy patients (FN = 2) . We will now plot the classification report for the Logistic Regression Classifier model."
      ],
      "metadata": {
        "id": "e_DmvaECXNDM"
      }
    },
    {
      "cell_type": "code",
      "source": [
        "from sklearn.metrics import classification_report\n",
        "print(classification_report(Y_val, models[0].predict(X_val)))"
      ],
      "metadata": {
        "colab": {
          "base_uri": "https://localhost:8080/"
        },
        "id": "LRUdQO_HXdwU",
        "outputId": "18eb16ed-3581-4dea-ea00-2cfb484d87c6"
      },
      "execution_count": 17,
      "outputs": [
        {
          "output_type": "stream",
          "name": "stdout",
          "text": [
            "              precision    recall  f1-score   support\n",
            "\n",
            "         0.0       0.77      0.71      0.74        14\n",
            "         1.0       0.89      0.92      0.91        37\n",
            "\n",
            "    accuracy                           0.86        51\n",
            "   macro avg       0.83      0.82      0.82        51\n",
            "weighted avg       0.86      0.86      0.86        51\n",
            "\n"
          ]
        }
      ]
    }
  ]
}